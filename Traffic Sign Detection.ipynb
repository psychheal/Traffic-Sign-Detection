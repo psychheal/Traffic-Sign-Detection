{
  "cells": [
    {
      "cell_type": "markdown",
      "id": "0A78eJPnSisf",
      "metadata": {
        "id": "0A78eJPnSisf"
      },
      "source": [
        "**Traffic signs classification using SIFT and visual bag of words**"
      ]
    },
    {
      "cell_type": "code",
      "source": [
        "from google.colab import drive\n",
        "drive.mount('/content/drive')"
      ],
      "metadata": {
        "id": "FHmRyEJ6Hsr6",
        "outputId": "ad1ef41e-4e56-4477-c738-2fdc83c0eed2",
        "colab": {
          "base_uri": "https://localhost:8080/"
        }
      },
      "id": "FHmRyEJ6Hsr6",
      "execution_count": null,
      "outputs": [
        {
          "output_type": "stream",
          "name": "stdout",
          "text": [
            "Drive already mounted at /content/drive; to attempt to forcibly remount, call drive.mount(\"/content/drive\", force_remount=True).\n"
          ]
        }
      ]
    },
    {
      "cell_type": "code",
      "source": [
        "cd /content/drive/MyDrive"
      ],
      "metadata": {
        "id": "CRiJTBAmH271",
        "outputId": "ba0e4076-d9df-4c08-c88f-4c12cff9a12d",
        "colab": {
          "base_uri": "https://localhost:8080/"
        }
      },
      "id": "CRiJTBAmH271",
      "execution_count": null,
      "outputs": [
        {
          "output_type": "stream",
          "name": "stdout",
          "text": [
            "/content/drive/MyDrive\n"
          ]
        }
      ]
    },
    {
      "cell_type": "markdown",
      "source": [
        "Install opencv for using SIFT"
      ],
      "metadata": {
        "id": "J61zEGjncrgH"
      },
      "id": "J61zEGjncrgH"
    },
    {
      "cell_type": "code",
      "execution_count": null,
      "id": "8zSluDtTSiss",
      "metadata": {
        "id": "8zSluDtTSiss",
        "outputId": "fadf4056-c6cf-4b82-9df3-bdaf2f467240",
        "scrolled": true,
        "colab": {
          "base_uri": "https://localhost:8080/"
        }
      },
      "outputs": [
        {
          "output_type": "stream",
          "name": "stdout",
          "text": [
            "Requirement already satisfied: opencv-python==3.4.11.45 in /usr/local/lib/python3.7/dist-packages (3.4.11.45)\n",
            "Requirement already satisfied: numpy>=1.14.5 in /usr/local/lib/python3.7/dist-packages (from opencv-python==3.4.11.45) (1.21.5)\n",
            "Requirement already satisfied: opencv-contrib-python==3.4.11.45 in /usr/local/lib/python3.7/dist-packages (3.4.11.45)\n",
            "Requirement already satisfied: numpy>=1.14.5 in /usr/local/lib/python3.7/dist-packages (from opencv-contrib-python==3.4.11.45) (1.21.5)\n"
          ]
        }
      ],
      "source": [
        "! pip install opencv-python==3.4.11.45\n",
        "! pip install opencv-contrib-python==3.4.11.45\n"
      ]
    },
    {
      "cell_type": "markdown",
      "id": "KMlf2BqaSisv",
      "metadata": {
        "id": "KMlf2BqaSisv"
      },
      "source": [
        "Import Required Librariers "
      ]
    },
    {
      "cell_type": "code",
      "execution_count": null,
      "id": "TXng60BtSisw",
      "metadata": {
        "id": "TXng60BtSisw"
      },
      "outputs": [],
      "source": [
        "import cv2\n",
        "import numpy as np \n",
        "import os\n",
        "from sklearn.cluster import KMeans\n",
        "from sklearn.preprocessing import StandardScaler\n",
        "from matplotlib import pyplot as plt\n",
        "from sklearn.metrics import confusion_matrix, classification_report\n",
        "from sklearn.metrics import accuracy_score\n",
        "import time\n",
        "from sklearn.ensemble import RandomForestClassifier\n",
        "from sklearn.linear_model import LogisticRegression\n",
        "from sklearn.naive_bayes import GaussianNB\n",
        "import seaborn as sns\n",
        "import pandas as pd\n",
        "from google.colab import files\n"
      ]
    },
    {
      "cell_type": "markdown",
      "id": "3gexx3RYSis0",
      "metadata": {
        "id": "3gexx3RYSis0"
      },
      "source": [
        "Functions implementation (Feature Extraction)\n"
      ]
    },
    {
      "cell_type": "code",
      "source": [
        "#Get descriptors of keypoints in the image by using the SIFT Descriptor\n",
        "def getDescriptors(sift, img):\n",
        "    kp, des = sift.detectAndCompute(img, None)\n",
        "    return des\n",
        " #Stack descriptors together   \n",
        "def stack(descriptor_list, clusters):\n",
        "    descriptors = np.array(descriptor_list[0])\n",
        "    for descriptor in descriptor_list[1:]:\n",
        "        descriptors = np.vstack((descriptors, descriptor)) \n",
        "    kmeans = KMeans(n_clusters = clusters).fit(descriptors)\n",
        "    return kmeans \n",
        "#Extract features from the clusters of the descriptors  \n",
        "def extractFeatures(kmeans, descriptor_list, image_count, clusters):\n",
        "    im_features = np.array([np.zeros(clusters) for i in range(image_count)])\n",
        "    for i in range(image_count):\n",
        "        for j in range(len(descriptor_list[i])):\n",
        "            feature = descriptor_list[i][j]\n",
        "            feature = feature.reshape(1, 128)\n",
        "            idx = kmeans.predict(feature)\n",
        "            im_features[i][idx] += 1\n",
        "\n",
        "    return im_features\n",
        "#Normalize extracted features so all of them exist on the same scale\n",
        "def normalizeFeatures(scale, features):\n",
        "    return scale.transform(features)   "
      ],
      "metadata": {
        "id": "bUgICX-tdko-"
      },
      "id": "bUgICX-tdko-",
      "execution_count": null,
      "outputs": []
    },
    {
      "cell_type": "markdown",
      "source": [
        "Functions implementation (Get Image data)"
      ],
      "metadata": {
        "id": "nnEGADeSeUTR"
      },
      "id": "nnEGADeSeUTR"
    },
    {
      "cell_type": "code",
      "execution_count": null,
      "id": "Aezd7gwoSis1",
      "metadata": {
        "id": "Aezd7gwoSis1"
      },
      "outputs": [],
      "source": [
        "#Get path of the training and testing images and store images in images array\n",
        "def getImages(datapath):\n",
        "    CATEGORIES = ['0','1','2','3','4','5','6','7','8','9']\n",
        "    for category in CATEGORIES:\n",
        "      path = os.path.join(datapath, category)\n",
        "      for img in os.listdir(path):\n",
        "        img_array = cv2.imread(os.path.join(path,img)) \n",
        "    data = []\n",
        "    for i in range(len(CATEGORIES)):\n",
        "        category = CATEGORIES[i]\n",
        "        path = os.path.join(datapath, category)\n",
        "        for img in os.listdir(path):\n",
        "            img_array = plt.imread(os.path.join(path,img))\n",
        "            new_array = cv2.resize(img_array, (64, 64))\n",
        "            data.append([new_array, i])\n",
        "    t_data = np.array(data)\n",
        "    return t_data\n",
        "def classifier(im_features, train_labels):\n",
        "    clf = RandomForestClassifier(n_estimators=100)\n",
        "    #clf = LogisticRegression()\n",
        "    #clf = GaussianNB()\n",
        "    clf.fit(im_features, train_labels)\n",
        "    return clf\n"
      ]
    },
    {
      "cell_type": "markdown",
      "source": [
        "Functions implementation (Display results)"
      ],
      "metadata": {
        "id": "wUG7L6Pkm2-5"
      },
      "id": "wUG7L6Pkm2-5"
    },
    {
      "cell_type": "code",
      "source": [
        "def print_confusion_matrix(confusion_matrix, class_names, figsize = (10,7), fontsize=14):\n",
        "   \n",
        "    df_cm = pd.DataFrame(\n",
        "        confusion_matrix, index=class_names, columns=class_names, \n",
        "    )\n",
        "    fig = plt.figure(figsize=figsize)\n",
        "    try:\n",
        "        heatmap = sns.heatmap(df_cm, annot=True, fmt=\"d\")\n",
        "    except ValueError:\n",
        "        raise ValueError(\"Confusion matrix values must be integers.\")\n",
        "    heatmap.yaxis.set_ticklabels(heatmap.yaxis.get_ticklabels(), rotation=0, ha='right', fontsize=fontsize)\n",
        "    heatmap.xaxis.set_ticklabels(heatmap.xaxis.get_ticklabels(), rotation=45, ha='right', fontsize=fontsize)\n",
        "    plt.ylabel('Truth')\n",
        "    plt.xlabel('Prediction')\n",
        "def plotHistogram(im_features, clusters):\n",
        "    x_scalar = np.arange(clusters)\n",
        "    y_scalar = np.array([abs(np.sum(im_features[:,h], dtype=np.int32)) for h in range(clusters)])\n",
        "    plt.bar(x_scalar, y_scalar)\n",
        "    plt.xlabel(\"Index\")\n",
        "    plt.ylabel(\"Frequency\")\n",
        "    plt.title(\"Visual Bag of Words\")\n",
        "    plt.xticks(x_scalar, x_scalar, color=\"black\")\n",
        "    plt.show()\n",
        "\n",
        "def plotConfusions(true, predictions):\n",
        "    class_names = ['0','1','2','3','4','5','6','7','8','9']\n",
        "    print(classification_report(true, predictions, target_names=class_names))\n",
        "    cnf_matrix = confusion_matrix(true, predictions)\n",
        "    cm = confusion_matrix(true,predictions)\n",
        "    print_confusion_matrix(cm,class_names)\n",
        "    FP = cnf_matrix.sum(axis=0) - np.diag(cnf_matrix)  \n",
        "    FN = cnf_matrix.sum(axis=1) - np.diag(cnf_matrix)\n",
        "    TP = np.diag(cnf_matrix)\n",
        "    TN = cnf_matrix.sum() - (FP + FN + TP)\n",
        "\n",
        "    FP = FP.astype(float)\n",
        "    FN = FN.astype(float)\n",
        "    TP = TP.astype(float)\n",
        "    TN = TN.astype(float)\n",
        "\n",
        "# Sensitivity, hit rate, recall, or true positive rate\n",
        "    TPR = TP/(TP+FN)\n",
        "    print(TPR, \"true positive rate\")\n",
        "# Specificity or true negative rate\n",
        "    TNR = TN/(TN+FP) \n",
        "    print(TNR, \"true negative rate\")\n",
        "# Precision or positive predictive value\n",
        "    PPV = TP/(TP+FP)\n",
        "    print(PPV , \"positive predictive value\")\n",
        "# Negative predictive value\n",
        "    NPV = TN/(TN+FN)\n",
        "    print(NPV , \"Negative predictive value\")\n",
        "# Fall out or false positive rate\n",
        "    FPR = FP/(FP+TN)\n",
        "    print(FPR, \"false positive rate\")\n",
        "# False negative rate\n",
        "    FNR = FN/(TP+FN)\n",
        "    print(FNR, \"False negative rate\")\n",
        "# False discovery rate\n",
        "    FDR = FP/(TP+FP)\n",
        "    print(FDR)\n",
        "# Overall accuracy\n",
        "    ACC = (TP+TN)/(TP+FP+FN+TN)\n",
        "    print(ACC)\n",
        "\n",
        "def Accuracy(true, predictions):\n",
        "    print ('Testing Accuracy: %0.3f' % accuracy_score(true, predictions))"
      ],
      "metadata": {
        "id": "9lyd2dn2e74p"
      },
      "id": "9lyd2dn2e74p",
      "execution_count": null,
      "outputs": []
    },
    {
      "cell_type": "markdown",
      "id": "AOuXpmvWSis4",
      "metadata": {
        "id": "AOuXpmvWSis4"
      },
      "source": [
        "Training Model"
      ]
    },
    {
      "cell_type": "code",
      "execution_count": null,
      "id": "DrsNlo3ISis5",
      "metadata": {
        "id": "DrsNlo3ISis5"
      },
      "outputs": [],
      "source": [
        "def trainModel():\n",
        "    path = \"/content/drive/MyDrive/TrainingData\"\n",
        "    clusters = 150\n",
        "    images = getImages(path)\n",
        "    sift = cv2.xfeatures2d.SIFT_create()\n",
        "    descriptor_list = []\n",
        "    label_count = 10\n",
        "    image_count = len(images)\n",
        "    train_labels = np.array([])\n",
        "    #for img_path in images:\n",
        "    X = []\n",
        "    y = []\n",
        "    for features, label in images:\n",
        "        #X.append(features)\n",
        "        #print(label)\n",
        "        y.append(label)\n",
        "        X = np.array(X).reshape(-1, 64, 64, 3)\n",
        "        train_labels = np.append(train_labels, y)\n",
        "        #img = readImage(img_path)\n",
        "        des = getDescriptors(sift, features)\n",
        "        descriptor_list.append(des)\n",
        "\n",
        "    kmeans = stack(descriptor_list, clusters)\n",
        "    \n",
        "    im_features = extractFeatures(kmeans, descriptor_list, image_count, clusters)\n",
        "    scale = StandardScaler().fit(im_features)        \n",
        "    im_features = scale.transform(im_features)\n",
        "    plotHistogram(im_features, clusters)\n",
        "    clf = classifier(im_features, y)\n",
        "    return kmeans, scale, clf, im_features"
      ]
    },
    {
      "cell_type": "code",
      "execution_count": null,
      "id": "nHFIqCdoSis6",
      "metadata": {
        "id": "nHFIqCdoSis6",
        "outputId": "d6a88136-a983-4071-d8cc-bdefb11c4435",
        "colab": {
          "base_uri": "https://localhost:8080/",
          "height": 384
        }
      },
      "outputs": [
        {
          "output_type": "stream",
          "name": "stderr",
          "text": [
            "/usr/local/lib/python3.7/dist-packages/ipykernel_launcher.py:16: VisibleDeprecationWarning: Creating an ndarray from ragged nested sequences (which is a list-or-tuple of lists-or-tuples-or ndarrays with different lengths or shapes) is deprecated. If you meant to do this, you must specify 'dtype=object' when creating the ndarray.\n",
            "  app.launch_new_instance()\n"
          ]
        },
        {
          "output_type": "display_data",
          "data": {
            "image/png": "[encoded data removed]",
            "text/plain": [
              "<Figure size 432x288 with 1 Axes>"
            ]
          },
          "metadata": {
            "needs_background": "light"
          }
        },
        {
          "output_type": "stream",
          "name": "stdout",
          "text": [
            "Features histogram plotted.\n",
            "Training completed.\n"
          ]
        }
      ],
      "source": [
        "kmeans, scale, clf, im_features = trainModel()\n"
      ]
    },
    {
      "cell_type": "code",
      "source": [
        "lbl =\t{ \"0\": \"0\",\"1\": \"1\",\"2\": \"2\",\"3\": \"3\",\"4\": \"4\",\"5\": \"5\",\"6\": \"6\",\"7\": \"7\",\"8\": \"8\",\"9\": \"9\"\n",
        "    }"
      ],
      "metadata": {
        "id": "quw_IBubR-xr"
      },
      "id": "quw_IBubR-xr",
      "execution_count": null,
      "outputs": []
    },
    {
      "cell_type": "markdown",
      "id": "6U5pNtQeSis6",
      "metadata": {
        "id": "6U5pNtQeSis6"
      },
      "source": [
        "Testing Model"
      ]
    },
    {
      "cell_type": "code",
      "execution_count": null,
      "id": "XfpIy-crSis7",
      "metadata": {
        "id": "XfpIy-crSis7"
      },
      "outputs": [],
      "source": [
        "def testModel( kmeans, scale, clf, im_features):\n",
        "    path = \"/content/drive/MyDrive/TestingData\"\n",
        "    test_images = getImages(path)\n",
        "    clusters = 150\n",
        "    count = 0\n",
        "    true = []\n",
        "    descriptor_list = []\n",
        "    sift = cv2.xfeatures2d.SIFT_create()\n",
        "    X = []\n",
        "    y = []\n",
        "    for features, label in test_images:\n",
        "     y.append(label)\n",
        "     X = np.array(X).reshape(-1, 64, 64, 3)\n",
        "     des = getDescriptors(sift, features)\n",
        "     if(des is not None):\n",
        "         count += 1\n",
        "         descriptor_list.append(des)   \n",
        "    test_features = extractFeatures(kmeans, descriptor_list, count, clusters)\n",
        "    test_features = scale.transform(test_features)  \n",
        "    predictions = [lbl[str(int(i))] for i in clf.predict(test_features)]\n",
        "    plotConfusions(np.array(y, dtype=np.string_),np.array(predictions, dtype=np.string_))\n",
        "    #print ('Accuracy of testing data' % accuracy_score(true, predictions))\n",
        "    Accuracy(np.array(y, dtype=np.string_),np.array(predictions, dtype=np.string_))"
      ]
    },
    {
      "cell_type": "code",
      "execution_count": null,
      "id": "OKsm9KOCSis8",
      "metadata": {
        "id": "OKsm9KOCSis8",
        "outputId": "acf2a5fb-a832-4239-e018-e98ecd0c170f",
        "colab": {
          "base_uri": "https://localhost:8080/",
          "height": 1000
        }
      },
      "outputs": [
        {
          "output_type": "stream",
          "name": "stderr",
          "text": [
            "/usr/local/lib/python3.7/dist-packages/ipykernel_launcher.py:16: VisibleDeprecationWarning: Creating an ndarray from ragged nested sequences (which is a list-or-tuple of lists-or-tuples-or ndarrays with different lengths or shapes) is deprecated. If you meant to do this, you must specify 'dtype=object' when creating the ndarray.\n",
            "  app.launch_new_instance()\n"
          ]
        },
        {
          "output_type": "stream",
          "name": "stdout",
          "text": [
            "Test images classified.\n",
            "['0', '0', '0', '0', '0', '0', '0', '0', '9', '0', '0', '0', '0', '0', '9', '0', '0', '0', '0', '0', '1', '1', '1', '1', '1', '1', '1', '1', '1', '1', '1', '1', '1', '1', '1', '1', '1', '1', '1', '1', '2', '2', '2', '2', '2', '2', '2', '2', '2', '2', '2', '2', '7', '2', '2', '1', '2', '2', '2', '2', '3', '3', '3', '3', '3', '3', '3', '3', '3', '3', '3', '3', '3', '3', '3', '3', '3', '3', '3', '3', '4', '4', '4', '4', '4', '4', '4', '4', '4', '4', '4', '4', '4', '4', '4', '4', '4', '4', '4', '4', '6', '5', '6', '6', '5', '5', '6', '5', '5', '5', '5', '5', '5', '5', '5', '5', '9', '5', '6', '5', '4', '6', '6', '6', '6', '3', '6', '6', '6', '5', '5', '6', '6', '6', '6', '6', '6', '6', '6', '6', '7', '7', '7', '7', '7', '7', '7', '7', '7', '7', '7', '7', '7', '7', '7', '7', '7', '7', '7', '7', '8', '8', '8', '8', '8', '8', '8', '8', '8', '8', '8', '8', '8', '8', '8', '8', '8', '8', '8', '8', '9', '9', '9', '9', '9', '9', '9', '9', '9', '9', '9', '9', '9', '9', '9', '9', '9', '9', '9', '5']\n",
            "              precision    recall  f1-score   support\n",
            "\n",
            "           0       1.00      0.90      0.95        20\n",
            "           1       0.95      1.00      0.98        20\n",
            "           2       1.00      0.90      0.95        20\n",
            "           3       0.95      1.00      0.98        20\n",
            "           4       0.95      1.00      0.98        20\n",
            "           5       0.82      0.70      0.76        20\n",
            "           6       0.76      0.80      0.78        20\n",
            "           7       0.95      1.00      0.98        20\n",
            "           8       1.00      1.00      1.00        20\n",
            "           9       0.86      0.95      0.90        20\n",
            "\n",
            "    accuracy                           0.93       200\n",
            "   macro avg       0.93      0.93      0.92       200\n",
            "weighted avg       0.93      0.93      0.92       200\n",
            "\n",
            "[0.9  1.   0.9  1.   1.   0.7  0.8  1.   1.   0.95] true positive rate\n",
            "[1.         0.99444444 1.         0.99444444 0.99444444 0.98333333\n",
            " 0.97222222 0.99444444 1.         0.98333333] true negative rate\n",
            "[1.         0.95238095 1.         0.95238095 0.95238095 0.82352941\n",
            " 0.76190476 0.95238095 1.         0.86363636] positive predictive value\n",
            "[0.98901099 1.         0.98901099 1.         1.         0.96721311\n",
            " 0.97765363 1.         1.         0.99438202] Negative predictive value\n",
            "[0.         0.00555556 0.         0.00555556 0.00555556 0.01666667\n",
            " 0.02777778 0.00555556 0.         0.01666667] false positive rate\n",
            "[0.1  0.   0.1  0.   0.   0.3  0.2  0.   0.   0.05] False negative rate\n",
            "[0.         0.04761905 0.         0.04761905 0.04761905 0.17647059\n",
            " 0.23809524 0.04761905 0.         0.13636364]\n",
            "[0.99  0.995 0.99  0.995 0.995 0.955 0.955 0.995 1.    0.98 ]\n",
            "Confusion matrixes plotted.\n",
            "accuracy score: 0.925\n"
          ]
        },
        {
          "output_type": "display_data",
          "data": {
            "image/png": "[encoded data removed]",
            "text/plain": [
              "<Figure size 720x504 with 2 Axes>"
            ]
          },
          "metadata": {
            "needs_background": "light"
          }
        }
      ],
      "source": [
        "\n",
        "testModel( kmeans, scale, clf, im_features)\n"
      ]
    },
    {
      "cell_type": "code",
      "source": [
        "\n",
        "from IPython.display import Javascript\n",
        "def resize_colab_cell():\n",
        "  display(Javascript('google.colab.output.setIframeHeight(0, true, {maxHeight: 10000})'))\n",
        "get_ipython().events.register('pre_run_cell', resize_colab_cell)"
      ],
      "metadata": {
        "id": "PgoqgS0UpsG0"
      },
      "id": "PgoqgS0UpsG0",
      "execution_count": null,
      "outputs": []
    },
    {
      "cell_type": "code",
      "source": [
        ""
      ],
      "metadata": {
        "id": "laSJmdoBw6VD"
      },
      "id": "laSJmdoBw6VD",
      "execution_count": null,
      "outputs": []
    }
  ],
  "metadata": {
    "colab": {
      "name": "mtariq_msai21seecs_361614_Mahnoor_Tariq.ipynb",
      "provenance": [],
      "collapsed_sections": []
    },
    "kernelspec": {
      "display_name": "Python 3 (ipykernel)",
      "language": "python",
      "name": "python3"
    },
    "language_info": {
      "codemirror_mode": {
        "name": "ipython",
        "version": 3
      },
      "file_extension": ".py",
      "mimetype": "text/x-python",
      "name": "python",
      "nbconvert_exporter": "python",
      "pygments_lexer": "ipython3",
      "version": "3.9.6"
    }
  },
  "nbformat": 4,
  "nbformat_minor": 5
}